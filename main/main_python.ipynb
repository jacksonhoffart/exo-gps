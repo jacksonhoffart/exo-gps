{
 "cells": [
  {
   "cell_type": "markdown",
   "metadata": {},
   "source": [
    "# Notebook to Fit Synthetic Spitzer Light Curves of Transiting Planets using Gaussian Processes\n",
    "## Coded by: Joel C. Schwartz – Postdoc, McGill University\n",
    "## Gaussian Process Module Coded by: Jackson Hoffart & Max Lamberti — Undergrads, McGill University\n",
    "## Last Updated: 02/27/17"
   ]
  },
  {
   "cell_type": "code",
   "execution_count": 1,
   "metadata": {
    "collapsed": false
   },
   "outputs": [],
   "source": [
    "import numpy as np\n",
    "from scipy import optimize\n",
    "from scipy.linalg import cho_factor, cho_solve\n",
    "from scipy.interpolate import RectBivariateSpline\n",
    "from scipy.integrate import quad\n",
    "import matplotlib.pyplot as plt\n",
    "import matplotlib.cm as cm\n",
    "import matplotlib.patches as pat\n",
    "%matplotlib inline\n",
    "\n",
    "import emcee\n",
    "import corner\n",
    "\n",
    "import main_Mock_Spitzer_Definitions as MSD  # File where I'm keeping all the functions needed from now on\n",
    "\n",
    "pi = np.pi"
   ]
  },
  {
   "cell_type": "markdown",
   "metadata": {},
   "source": [
    "# Setup the Planetary System & Light Curve"
   ]
  },
  {
   "cell_type": "code",
   "execution_count": 2,
   "metadata": {
    "collapsed": true
   },
   "outputs": [],
   "source": [
    "Generate_key = False  # True to generate from scratch; False to load a data set that's already made\n",
    "ExportLC_key = False  # True to save generated light (if generate key is also turned on)\n",
    "\n",
    "folder_Name = 'main_LC_data/'\n",
    "loadfile_Name = '170313_Scenario_001'"
   ]
  },
  {
   "cell_type": "markdown",
   "metadata": {},
   "source": [
    "## Input Values — Edit these if generating\n",
    "#### Some bogus combos won't work: for example, if the planet has a bigger radius than the star"
   ]
  },
  {
   "cell_type": "code",
   "execution_count": 3,
   "metadata": {
    "collapsed": false
   },
   "outputs": [
    {
     "ename": "IOError",
     "evalue": "[Errno 2] No such file or directory: 'main_LC_data/170313_Scenario_001_givens.npz'",
     "output_type": "error",
     "traceback": [
      "\u001b[0;31m---------------------------------------------------------------------------\u001b[0m",
      "\u001b[0;31mIOError\u001b[0m                                   Traceback (most recent call last)",
      "\u001b[0;32m<ipython-input-3-6e732465f5a3>\u001b[0m in \u001b[0;36m<module>\u001b[0;34m()\u001b[0m\n\u001b[1;32m     45\u001b[0m      \u001b[0mNperHr\u001b[0m\u001b[0;34m,\u001b[0m\u001b[0mObs_orbits\u001b[0m\u001b[0;34m,\u001b[0m\u001b[0mFrac_transinone\u001b[0m\u001b[0;34m,\u001b[0m\u001b[0mwavelength_Obs\u001b[0m\u001b[0;34m,\u001b[0m\u001b[0mbandwidth_Obs\u001b[0m\u001b[0;34m,\u001b[0m\u001b[0msignificance_decl\u001b[0m\u001b[0;34m,\u001b[0m\u001b[0mratio_DelD_decl\u001b[0m\u001b[0;34m,\u001b[0m\u001b[0;34m\u001b[0m\u001b[0m\n\u001b[1;32m     46\u001b[0m      \u001b[0mFrac_repoints\u001b[0m\u001b[0;34m,\u001b[0m\u001b[0mNoisy_cents_key\u001b[0m\u001b[0;34m,\u001b[0m\u001b[0mFrac_sigcent\u001b[0m\u001b[0;34m,\u001b[0m\u001b[0mRhomax_cent\u001b[0m\u001b[0;34m,\u001b[0m\u001b[0mlevel_Vnoise\u001b[0m\u001b[0;34m,\u001b[0m\u001b[0mNzy_per_pix\u001b[0m\u001b[0;34m,\u001b[0m\u001b[0;34m\u001b[0m\u001b[0m\n\u001b[0;32m---> 47\u001b[0;31m      Brown_key,ratio_Brown_DelD) = MSD.LCloadGiv(folder_Name,loadfile_Name)\n\u001b[0m",
      "\u001b[0;32m/Users/jhoffart/Documents/mcgill/classes/thesis/main_python/main_Mock_Spitzer_Definitions.py\u001b[0m in \u001b[0;36mLCloadGiv\u001b[0;34m(folder, file)\u001b[0m\n\u001b[1;32m   1164\u001b[0m \u001b[0;34m\u001b[0m\u001b[0m\n\u001b[1;32m   1165\u001b[0m \u001b[0;32mdef\u001b[0m \u001b[0mLCloadGiv\u001b[0m\u001b[0;34m(\u001b[0m\u001b[0mfolder\u001b[0m\u001b[0;34m,\u001b[0m\u001b[0mfile\u001b[0m\u001b[0;34m)\u001b[0m\u001b[0;34m:\u001b[0m\u001b[0;34m\u001b[0m\u001b[0m\n\u001b[0;32m-> 1166\u001b[0;31m     \u001b[0mgivens\u001b[0m \u001b[0;34m=\u001b[0m \u001b[0mnp\u001b[0m\u001b[0;34m.\u001b[0m\u001b[0mload\u001b[0m\u001b[0;34m(\u001b[0m\u001b[0mfolder\u001b[0m\u001b[0;34m+\u001b[0m\u001b[0mfile\u001b[0m\u001b[0;34m+\u001b[0m\u001b[0;34m'_givens.npz'\u001b[0m\u001b[0;34m)\u001b[0m\u001b[0;34m\u001b[0m\u001b[0m\n\u001b[0m\u001b[1;32m   1167\u001b[0m     \u001b[0mnf\u001b[0m \u001b[0;34m=\u001b[0m \u001b[0mlen\u001b[0m\u001b[0;34m(\u001b[0m\u001b[0mgivens\u001b[0m\u001b[0;34m.\u001b[0m\u001b[0mfiles\u001b[0m\u001b[0;34m)\u001b[0m\u001b[0;34m\u001b[0m\u001b[0m\n\u001b[1;32m   1168\u001b[0m \u001b[0;34m\u001b[0m\u001b[0m\n",
      "\u001b[0;32m/Users/jhoffart/anaconda/lib/python2.7/site-packages/numpy/lib/npyio.pyc\u001b[0m in \u001b[0;36mload\u001b[0;34m(file, mmap_mode, allow_pickle, fix_imports, encoding)\u001b[0m\n\u001b[1;32m    360\u001b[0m     \u001b[0mown_fid\u001b[0m \u001b[0;34m=\u001b[0m \u001b[0mFalse\u001b[0m\u001b[0;34m\u001b[0m\u001b[0m\n\u001b[1;32m    361\u001b[0m     \u001b[0;32mif\u001b[0m \u001b[0misinstance\u001b[0m\u001b[0;34m(\u001b[0m\u001b[0mfile\u001b[0m\u001b[0;34m,\u001b[0m \u001b[0mbasestring\u001b[0m\u001b[0;34m)\u001b[0m\u001b[0;34m:\u001b[0m\u001b[0;34m\u001b[0m\u001b[0m\n\u001b[0;32m--> 362\u001b[0;31m         \u001b[0mfid\u001b[0m \u001b[0;34m=\u001b[0m \u001b[0mopen\u001b[0m\u001b[0;34m(\u001b[0m\u001b[0mfile\u001b[0m\u001b[0;34m,\u001b[0m \u001b[0;34m\"rb\"\u001b[0m\u001b[0;34m)\u001b[0m\u001b[0;34m\u001b[0m\u001b[0m\n\u001b[0m\u001b[1;32m    363\u001b[0m         \u001b[0mown_fid\u001b[0m \u001b[0;34m=\u001b[0m \u001b[0mTrue\u001b[0m\u001b[0;34m\u001b[0m\u001b[0m\n\u001b[1;32m    364\u001b[0m     \u001b[0;32melse\u001b[0m\u001b[0;34m:\u001b[0m\u001b[0;34m\u001b[0m\u001b[0m\n",
      "\u001b[0;31mIOError\u001b[0m: [Errno 2] No such file or directory: 'main_LC_data/170313_Scenario_001_givens.npz'"
     ]
    }
   ],
   "source": [
    "if Generate_key == True:\n",
    "    \n",
    "    ## Planetary System\n",
    "    Star_mass = 1.0  # Solar masses\n",
    "    Star_radius = 1.0  # Solar radii\n",
    "    Star_Teff = 5778  # Kelvin\n",
    "\n",
    "    Planet_semimajor = 0.05  # AU\n",
    "    Planet_radius = 1.0  # Jupiter radii: NEPTUNE would be about 0.3464, EARTH would be about 0.0892\n",
    "    Planet_impact = 0.25  # Impact parameter: [0,1]\n",
    "\n",
    "    Planet_Ag = 0.3  # Geometric albedo: [0,1.5]  — this is in whatever waveband is defined below\n",
    "    Planet_AB = 0.2  # Bond albedo: [0,1]\n",
    "    Planet_varepsilon = 0.35  # Heat recirculation efficiency: [0,1]\n",
    "\n",
    "\n",
    "    ## Light Curve\n",
    "    NperHr = 12  # Cadence of data, in points per hour\n",
    "    Obs_orbits = 1.5  # How many orbits did you observe? Can be fractional and/or less than 1\n",
    "    Frac_transinone = 0.75  # Time-fraction into 1ST OBSERVED ORBIT that transit happens (i.e. timing for everything)\n",
    "\n",
    "    wavelength_Obs = 4.5  # 'Bolo' for bolometric, OR center of waveband in microns\n",
    "    bandwidth_Obs = 1.0  # Anything for bolometric, OR full-width of wavelength channel in microns\n",
    "\n",
    "    significance_decl = 10.0*np.ones(1)  # Significance of the eclipse (i.e. how many sigma is it detected at?)\n",
    "    ratio_DelD_decl = 10.0*np.ones(1)  # Ratio of Detector Amplitude (in a given part of light curve) to Eclipse Depth\n",
    "\n",
    "\n",
    "    ## Repoints, Centroids, Noise\n",
    "    Frac_repoints = np.array([0,1.0]) # Time-fraction into WHOLE OBSERVATION repoints happen: MUST HAVE 0 and 1.0\n",
    "\n",
    "    Noisy_cents_key = False  # Add some noise to centroids\n",
    "    Frac_sigcent,Rhomax_cent = 0.01,0.5  # Fraction of centroid cluster for uncertainty; maximum covariance\n",
    "\n",
    "    level_Vnoise = 0.1  # Uncertainty for noise in pixel sensitivity, relative to standard model being from 0 to 1\n",
    "    Nzy_per_pix = 10  # Number of 'noisy points' to interpolate from, per pixel AND per axis\n",
    "\n",
    "    Brown_key = False  # Extra Brownian noise signal\n",
    "    ratio_Brown_DelD = 1.0*np.ones(1)\n",
    "    \n",
    "else:\n",
    "    \n",
    "    (Star_mass,Star_radius,Star_Teff,\n",
    "     Planet_semimajor,Planet_radius,Planet_impact,Planet_Ag,Planet_AB,Planet_varepsilon,\n",
    "     NperHr,Obs_orbits,Frac_transinone,wavelength_Obs,bandwidth_Obs,significance_decl,ratio_DelD_decl,\n",
    "     Frac_repoints,Noisy_cents_key,Frac_sigcent,Rhomax_cent,level_Vnoise,Nzy_per_pix,\n",
    "     Brown_key,ratio_Brown_DelD) = MSD.LCloadGiv(folder_Name,loadfile_Name)"
   ]
  },
  {
   "cell_type": "markdown",
   "metadata": {},
   "source": [
    "## Calculated Values"
   ]
  },
  {
   "cell_type": "code",
   "execution_count": 4,
   "metadata": {
    "collapsed": false
   },
   "outputs": [
    {
     "ename": "NameError",
     "evalue": "name 'Planet_semimajor' is not defined",
     "output_type": "error",
     "traceback": [
      "\u001b[0;31m---------------------------------------------------------------------------\u001b[0m",
      "\u001b[0;31mNameError\u001b[0m                                 Traceback (most recent call last)",
      "\u001b[0;32m<ipython-input-4-f79671bf1578>\u001b[0m in \u001b[0;36m<module>\u001b[0;34m()\u001b[0m\n\u001b[1;32m      1\u001b[0m \u001b[0;31m## Orbital Period\u001b[0m\u001b[0;34m\u001b[0m\u001b[0;34m\u001b[0m\u001b[0m\n\u001b[0;32m----> 2\u001b[0;31m \u001b[0mpln_Porb_days\u001b[0m \u001b[0;34m=\u001b[0m \u001b[0mMSD\u001b[0m\u001b[0;34m.\u001b[0m\u001b[0mplanet_P\u001b[0m\u001b[0;34m(\u001b[0m\u001b[0mPlanet_semimajor\u001b[0m\u001b[0;34m,\u001b[0m\u001b[0mStar_mass\u001b[0m\u001b[0;34m)\u001b[0m\u001b[0;34m\u001b[0m\u001b[0m\n\u001b[0m\u001b[1;32m      3\u001b[0m \u001b[0mpln_Porb_sec\u001b[0m \u001b[0;34m=\u001b[0m \u001b[0mpln_Porb_days\u001b[0m\u001b[0;34m*\u001b[0m\u001b[0;34m(\u001b[0m\u001b[0;36m24\u001b[0m\u001b[0;34m*\u001b[0m\u001b[0;36m3600\u001b[0m\u001b[0;34m)\u001b[0m  \u001b[0;31m# Number of days * 24 hr/day * 3600 sec/hr\u001b[0m\u001b[0;34m\u001b[0m\u001b[0m\n\u001b[1;32m      4\u001b[0m \u001b[0;34m\u001b[0m\u001b[0m\n\u001b[1;32m      5\u001b[0m \u001b[0;31m## Planet Temperatures\u001b[0m\u001b[0;34m\u001b[0m\u001b[0;34m\u001b[0m\u001b[0m\n",
      "\u001b[0;31mNameError\u001b[0m: name 'Planet_semimajor' is not defined"
     ]
    }
   ],
   "source": [
    "## Orbital Period\n",
    "pln_Porb_days = MSD.planet_P(Planet_semimajor,Star_mass)\n",
    "pln_Porb_sec = pln_Porb_days*(24*3600)  # Number of days * 24 hr/day * 3600 sec/hr\n",
    "\n",
    "## Planet Temperatures\n",
    "pln_Tnought = MSD.planet_Tirrad(Star_Teff,Star_radius,Planet_semimajor)\n",
    "pln_Tday,pln_Tnight = MSD.planet_Tdaynight(Planet_varepsilon,Planet_AB,pln_Tnought)\n",
    "\n",
    "## Offset of light curve (1st order)\n",
    "litecrv_Offdeg = MSD.LC_offdeg(Planet_varepsilon)\n",
    "\n",
    "## Properties of transit, eclipse, and phase variations\n",
    "(delta_transit,power_transit,dur_transit_sec,\n",
    " delta_eclipse,dur_ineclipse_sec,dur_inegress_sec,\n",
    " delta_variations,\n",
    " delta_systemflux) = MSD.LC_depths_durations(wavelength_Obs,bandwidth_Obs,\n",
    "                                             Star_radius,Star_Teff,Planet_semimajor,pln_Porb_days,Planet_impact,\n",
    "                                             Planet_radius,pln_Tday,pln_Tnight,Planet_Ag,litecrv_Offdeg)\n",
    "\n",
    "## Time of transit in 1st observed orbit\n",
    "transit_inone = Frac_transinone*pln_Porb_sec\n",
    "\n",
    "## Data points per orbit and in whole light curve\n",
    "NperOrb,N_LC = MSD.pregen_Nvals(NperHr,Obs_orbits,pln_Porb_sec)\n",
    "\n",
    "## Setting detector amplitude and photon noise, from calculated eclipse depth and chosen properties\n",
    "setting_Delta_D = ratio_DelD_decl*delta_eclipse\n",
    "within_ecl_N = int(NperOrb*((dur_ineclipse_sec + 2.0*dur_inegress_sec)/pln_Porb_sec))\n",
    "ratio_SigF_decl = (within_ecl_N**0.5)/significance_decl  # Photon noise / Eclipse depth == Sqrt[N_ecl] / Signif_ecl\n",
    "setting_SigF = ratio_SigF_decl*delta_eclipse"
   ]
  },
  {
   "cell_type": "markdown",
   "metadata": {},
   "source": [
    "## Diagram of the Planetary System"
   ]
  },
  {
   "cell_type": "code",
   "execution_count": 5,
   "metadata": {
    "collapsed": false
   },
   "outputs": [
    {
     "ename": "NameError",
     "evalue": "name 'wavelength_Obs' is not defined",
     "output_type": "error",
     "traceback": [
      "\u001b[0;31m---------------------------------------------------------------------------\u001b[0m",
      "\u001b[0;31mNameError\u001b[0m                                 Traceback (most recent call last)",
      "\u001b[0;32m<ipython-input-5-5f8211e2cf8f>\u001b[0m in \u001b[0;36m<module>\u001b[0;34m()\u001b[0m\n\u001b[0;32m----> 1\u001b[0;31m MSD.system_visual(wavelength_Obs,Star_mass,Star_radius,Star_Teff,\n\u001b[0m\u001b[1;32m      2\u001b[0m                   \u001b[0mPlanet_semimajor\u001b[0m\u001b[0;34m,\u001b[0m\u001b[0mPlanet_radius\u001b[0m\u001b[0;34m,\u001b[0m\u001b[0mPlanet_impact\u001b[0m\u001b[0;34m,\u001b[0m\u001b[0;34m\u001b[0m\u001b[0m\n\u001b[1;32m      3\u001b[0m                   Planet_Ag,Planet_AB,Planet_varepsilon,pln_Porb_days,pln_Tnought,pln_Tday,pln_Tnight)\n",
      "\u001b[0;31mNameError\u001b[0m: name 'wavelength_Obs' is not defined"
     ]
    }
   ],
   "source": [
    "MSD.system_visual(wavelength_Obs,Star_mass,Star_radius,Star_Teff,\n",
    "                  Planet_semimajor,Planet_radius,Planet_impact,\n",
    "                  Planet_Ag,Planet_AB,Planet_varepsilon,pln_Porb_days,pln_Tnought,pln_Tday,pln_Tnight)"
   ]
  },
  {
   "cell_type": "markdown",
   "metadata": {},
   "source": [
    "## Centroids from Telescope Pointing Model\n",
    "#### More sophisticated: can have multiple repoints now!"
   ]
  },
  {
   "cell_type": "code",
   "execution_count": 6,
   "metadata": {
    "collapsed": false
   },
   "outputs": [
    {
     "ename": "NameError",
     "evalue": "name 'Obs_orbits' is not defined",
     "output_type": "error",
     "traceback": [
      "\u001b[0;31m---------------------------------------------------------------------------\u001b[0m",
      "\u001b[0;31mNameError\u001b[0m                                 Traceback (most recent call last)",
      "\u001b[0;32m<ipython-input-6-16548159ebcd>\u001b[0m in \u001b[0;36m<module>\u001b[0;34m()\u001b[0m\n\u001b[0;32m----> 1\u001b[0;31m \u001b[0mtemp_time\u001b[0m \u001b[0;34m=\u001b[0m \u001b[0mnp\u001b[0m\u001b[0;34m.\u001b[0m\u001b[0mlinspace\u001b[0m\u001b[0;34m(\u001b[0m\u001b[0;36m0\u001b[0m\u001b[0;34m,\u001b[0m\u001b[0mObs_orbits\u001b[0m\u001b[0;34m*\u001b[0m\u001b[0mpln_Porb_sec\u001b[0m\u001b[0;34m,\u001b[0m\u001b[0mN_LC\u001b[0m\u001b[0;34m)\u001b[0m  \u001b[0;31m# For 'telescope_pointing' function\u001b[0m\u001b[0;34m\u001b[0m\u001b[0m\n\u001b[0m\u001b[1;32m      2\u001b[0m \u001b[0;34m\u001b[0m\u001b[0m\n\u001b[1;32m      3\u001b[0m \u001b[0;32mif\u001b[0m \u001b[0mGenerate_key\u001b[0m \u001b[0;34m==\u001b[0m \u001b[0mTrue\u001b[0m\u001b[0;34m:\u001b[0m\u001b[0;34m\u001b[0m\u001b[0m\n\u001b[1;32m      4\u001b[0m \u001b[0;34m\u001b[0m\u001b[0m\n\u001b[1;32m      5\u001b[0m     \u001b[0;31m## Perfect centroids\u001b[0m\u001b[0;34m\u001b[0m\u001b[0;34m\u001b[0m\u001b[0m\n",
      "\u001b[0;31mNameError\u001b[0m: name 'Obs_orbits' is not defined"
     ]
    }
   ],
   "source": [
    "temp_time = np.linspace(0,Obs_orbits*pln_Porb_sec,N_LC)  # For 'telescope_pointing' function\n",
    "\n",
    "if Generate_key == True:\n",
    "    \n",
    "    ## Perfect centroids\n",
    "    (x0_perf,y0_perf,tm_inds,select_point,\n",
    "     Jitter_vals,Wobble_vals,ShortDrift_vals,LongDrift_vals) = MSD.centroiding(temp_time,Frac_repoints)\n",
    "\n",
    "    ## Noisy centroids (if Noisy_cent_key == True, otherwise same as perfect centroids)\n",
    "    x0_vals,y0_vals,Cov_true = MSD.centroid_jiggle(Noisy_cents_key,x0_perf,y0_perf,N_LC,Frac_sigcent,Rhomax_cent)\n",
    "\n",
    "    ## Creating the pixel noise grid to interpolate from\n",
    "    xgrid_Fixed,ygrid_Fixed,Master_pixNoi = MSD.preNoi_gridding(x0_perf,y0_perf,Nzy_per_pix)\n",
    "    \n",
    "else:\n",
    "    \n",
    "    (x0_perf,y0_perf,tm_inds,select_point,\n",
    "     Jitter_vals,Wobble_vals,ShortDrift_vals,LongDrift_vals,\n",
    "     x0_vals,y0_vals,Cov_true,xgrid_Fixed,ygrid_Fixed,Master_pixNoi) = MSD.LCloadCen(folder_Name,loadfile_Name)"
   ]
  },
  {
   "cell_type": "markdown",
   "metadata": {},
   "source": [
    "## Generate/Load the Light Curve"
   ]
  },
  {
   "cell_type": "code",
   "execution_count": 7,
   "metadata": {
    "collapsed": false
   },
   "outputs": [
    {
     "ename": "IOError",
     "evalue": "[Errno 2] No such file or directory: 'main_LC_data/170313_Scenario_001_datas.npz'",
     "output_type": "error",
     "traceback": [
      "\u001b[0;31m---------------------------------------------------------------------------\u001b[0m",
      "\u001b[0;31mIOError\u001b[0m                                   Traceback (most recent call last)",
      "\u001b[0;32m<ipython-input-7-e36541985c80>\u001b[0m in \u001b[0;36m<module>\u001b[0;34m()\u001b[0m\n\u001b[1;32m     31\u001b[0m \u001b[0;34m\u001b[0m\u001b[0m\n\u001b[1;32m     32\u001b[0m     (Ast_true,Trans_true,Ecl_true,mu_true,SigF_true,\n\u001b[0;32m---> 33\u001b[0;31m      T,A_m,D_m,F_perf,F_dat,V_map,Vx_val,Vy_val,Bro_noi) = MSD.LCloadDat(folder_Name,loadfile_Name)\n\u001b[0m",
      "\u001b[0;32m/Users/jhoffart/Documents/mcgill/classes/thesis/main_python/main_Mock_Spitzer_Definitions.py\u001b[0m in \u001b[0;36mLCloadDat\u001b[0;34m(folder, file)\u001b[0m\n\u001b[1;32m   1187\u001b[0m \u001b[0;34m\u001b[0m\u001b[0m\n\u001b[1;32m   1188\u001b[0m \u001b[0;32mdef\u001b[0m \u001b[0mLCloadDat\u001b[0m\u001b[0;34m(\u001b[0m\u001b[0mfolder\u001b[0m\u001b[0;34m,\u001b[0m\u001b[0mfile\u001b[0m\u001b[0;34m)\u001b[0m\u001b[0;34m:\u001b[0m\u001b[0;34m\u001b[0m\u001b[0m\n\u001b[0;32m-> 1189\u001b[0;31m     \u001b[0mdatas\u001b[0m \u001b[0;34m=\u001b[0m \u001b[0mnp\u001b[0m\u001b[0;34m.\u001b[0m\u001b[0mload\u001b[0m\u001b[0;34m(\u001b[0m\u001b[0mfolder\u001b[0m\u001b[0;34m+\u001b[0m\u001b[0mfile\u001b[0m\u001b[0;34m+\u001b[0m\u001b[0;34m'_datas.npz'\u001b[0m\u001b[0;34m)\u001b[0m\u001b[0;34m\u001b[0m\u001b[0m\n\u001b[0m\u001b[1;32m   1190\u001b[0m     \u001b[0mnf\u001b[0m \u001b[0;34m=\u001b[0m \u001b[0mlen\u001b[0m\u001b[0;34m(\u001b[0m\u001b[0mdatas\u001b[0m\u001b[0;34m.\u001b[0m\u001b[0mfiles\u001b[0m\u001b[0;34m)\u001b[0m\u001b[0;34m\u001b[0m\u001b[0m\n\u001b[1;32m   1191\u001b[0m \u001b[0;34m\u001b[0m\u001b[0m\n",
      "\u001b[0;32m/Users/jhoffart/anaconda/lib/python2.7/site-packages/numpy/lib/npyio.pyc\u001b[0m in \u001b[0;36mload\u001b[0;34m(file, mmap_mode, allow_pickle, fix_imports, encoding)\u001b[0m\n\u001b[1;32m    360\u001b[0m     \u001b[0mown_fid\u001b[0m \u001b[0;34m=\u001b[0m \u001b[0mFalse\u001b[0m\u001b[0;34m\u001b[0m\u001b[0m\n\u001b[1;32m    361\u001b[0m     \u001b[0;32mif\u001b[0m \u001b[0misinstance\u001b[0m\u001b[0;34m(\u001b[0m\u001b[0mfile\u001b[0m\u001b[0;34m,\u001b[0m \u001b[0mbasestring\u001b[0m\u001b[0;34m)\u001b[0m\u001b[0;34m:\u001b[0m\u001b[0;34m\u001b[0m\u001b[0m\n\u001b[0;32m--> 362\u001b[0;31m         \u001b[0mfid\u001b[0m \u001b[0;34m=\u001b[0m \u001b[0mopen\u001b[0m\u001b[0;34m(\u001b[0m\u001b[0mfile\u001b[0m\u001b[0;34m,\u001b[0m \u001b[0;34m\"rb\"\u001b[0m\u001b[0;34m)\u001b[0m\u001b[0;34m\u001b[0m\u001b[0m\n\u001b[0m\u001b[1;32m    363\u001b[0m         \u001b[0mown_fid\u001b[0m \u001b[0;34m=\u001b[0m \u001b[0mTrue\u001b[0m\u001b[0;34m\u001b[0m\u001b[0m\n\u001b[1;32m    364\u001b[0m     \u001b[0;32melse\u001b[0m\u001b[0;34m:\u001b[0m\u001b[0;34m\u001b[0m\u001b[0m\n",
      "\u001b[0;31mIOError\u001b[0m: [Errno 2] No such file or directory: 'main_LC_data/170313_Scenario_001_datas.npz'"
     ]
    }
   ],
   "source": [
    "if Generate_key == True:\n",
    "    \n",
    "    ## [amplitude,Porb_planet in sec,phase offset,DC flux offset from 1.0,transit time in 1st observed orbit]\n",
    "    Ast_true = np.array([0.5*delta_variations,\n",
    "                         pln_Porb_sec,\n",
    "                         litecrv_Offdeg*pi/180.0,\n",
    "                         delta_systemflux,\n",
    "                         transit_inone])\n",
    "    ## [half transit duration,power of curve,depth]\n",
    "    Trans_true = np.array([0.5*dur_transit_sec,\n",
    "                         power_transit,\n",
    "                         delta_transit])\n",
    "    ## [half in-eclipse duration,ingress/egress duration,depth]\n",
    "    Ecl_true = np.array([0.5*dur_ineclipse_sec,\n",
    "                         dur_inegress_sec,\n",
    "                         delta_eclipse])\n",
    "    mu_true = np.array([0.0])  # Basically a legacy term (adds a systematic offset in the photon noise)\n",
    "    SigF_true = setting_SigF  # Uncertainty of photon noise; already an array from earlier definition\n",
    "\n",
    "    # GENERATE!!!\n",
    "    (T,A_m,D_m,F_perf,F_dat,\n",
    "     V_map,Vx_val,Vy_val) = MSD.real_gen_model(xgrid_Fixed,ygrid_Fixed,Master_pixNoi,\n",
    "                                               level_Vnoise,setting_Delta_D,tm_inds,select_point,True,\n",
    "                                               NperOrb,N_LC,Obs_orbits,Ast_true,Trans_true,Ecl_true,\n",
    "                                               x0_perf,y0_perf,mu_true,SigF_true)\n",
    "\n",
    "    # Multiplying in Brownian noise, if wanted.\n",
    "    F_perf,F_dat,Bro_noi = MSD.brown_signal(Brown_key,ratio_Brown_DelD,F_perf,F_dat,A_m,D_m,mu_true,SigF_true,N_LC)\n",
    "    \n",
    "else:\n",
    "    \n",
    "    (Ast_true,Trans_true,Ecl_true,mu_true,SigF_true,\n",
    "     T,A_m,D_m,F_perf,F_dat,V_map,Vx_val,Vy_val,Bro_noi) = MSD.LCloadDat(folder_Name,loadfile_Name)"
   ]
  },
  {
   "cell_type": "markdown",
   "metadata": {},
   "source": [
    "## Plot the light curve and pixel sensitivity maps!"
   ]
  },
  {
   "cell_type": "code",
   "execution_count": 8,
   "metadata": {
    "collapsed": false,
    "scrolled": true
   },
   "outputs": [
    {
     "ename": "NameError",
     "evalue": "name 'T' is not defined",
     "output_type": "error",
     "traceback": [
      "\u001b[0;31m---------------------------------------------------------------------------\u001b[0m",
      "\u001b[0;31mNameError\u001b[0m                                 Traceback (most recent call last)",
      "\u001b[0;32m<ipython-input-8-126a7ee438a6>\u001b[0m in \u001b[0;36m<module>\u001b[0;34m()\u001b[0m\n\u001b[0;32m----> 1\u001b[0;31m \u001b[0mT_viz\u001b[0m \u001b[0;34m=\u001b[0m \u001b[0mT\u001b[0m\u001b[0;34m/\u001b[0m\u001b[0;36m3600\u001b[0m\u001b[0;34m\u001b[0m\u001b[0m\n\u001b[0m\u001b[1;32m      2\u001b[0m \u001b[0mBlind_data\u001b[0m \u001b[0;34m=\u001b[0m \u001b[0mFalse\u001b[0m  \u001b[0;31m# Hide underlying models?\u001b[0m\u001b[0;34m\u001b[0m\u001b[0m\n\u001b[1;32m      3\u001b[0m \u001b[0mHighlight_astro\u001b[0m \u001b[0;34m=\u001b[0m \u001b[0mTrue\u001b[0m  \u001b[0;31m# If showing: focus on astro model?\u001b[0m\u001b[0;34m\u001b[0m\u001b[0m\n\u001b[1;32m      4\u001b[0m \u001b[0mZoom_in\u001b[0m \u001b[0;34m=\u001b[0m \u001b[0mFalse\u001b[0m  \u001b[0;31m# Focus more on phase curve?\u001b[0m\u001b[0;34m\u001b[0m\u001b[0m\n\u001b[1;32m      5\u001b[0m \u001b[0;34m\u001b[0m\u001b[0m\n",
      "\u001b[0;31mNameError\u001b[0m: name 'T' is not defined"
     ]
    }
   ],
   "source": [
    "T_viz = T/3600\n",
    "Blind_data = False  # Hide underlying models?\n",
    "Highlight_astro = True  # If showing: focus on astro model?\n",
    "Zoom_in = False  # Focus more on phase curve?\n",
    "\n",
    "MSD.LC_plotter(Blind_data,Highlight_astro,Zoom_in,T_viz,F_dat,A_m,D_m,F_perf,\n",
    "               Brown_key,Bro_noi,delta_eclipse,significance_decl,ratio_DelD_decl)\n",
    "\n",
    "MSD.full_pixelsens(Vx_val,Vy_val,V_map,100,x0_perf,y0_perf)  # Number is contours to use\n",
    "\n",
    "newmap_badmask,lx0,hx0,ly0,hy0 = MSD.cent_mapplot(x0_perf,y0_perf,Vx_val[0,:],Vy_val[:,0])\n",
    "Smap_bounds = [np.amin(Vx_val),np.amax(Vx_val),np.amin(Vy_val),np.amax(Vy_val)]\n",
    "minviz,maxviz = np.amin(D_m),np.amax(D_m)\n",
    "\n",
    "MSD.cent_sensfigs(T_viz,x0_perf,y0_perf,lx0,hx0,ly0,hy0,V_map,newmap_badmask,Smap_bounds,minviz,maxviz)"
   ]
  },
  {
   "cell_type": "code",
   "execution_count": 9,
   "metadata": {
    "collapsed": false
   },
   "outputs": [
    {
     "ename": "NameError",
     "evalue": "name 'Vx_val' is not defined",
     "output_type": "error",
     "traceback": [
      "\u001b[0;31m---------------------------------------------------------------------------\u001b[0m",
      "\u001b[0;31mNameError\u001b[0m                                 Traceback (most recent call last)",
      "\u001b[0;32m<ipython-input-9-702b12399c85>\u001b[0m in \u001b[0;36m<module>\u001b[0;34m()\u001b[0m\n\u001b[0;32m----> 1\u001b[0;31m \u001b[0mMSD\u001b[0m\u001b[0;34m.\u001b[0m\u001b[0mjackson_plot\u001b[0m\u001b[0;34m(\u001b[0m\u001b[0mVx_val\u001b[0m\u001b[0;34m,\u001b[0m\u001b[0mVy_val\u001b[0m\u001b[0;34m,\u001b[0m\u001b[0;36m100\u001b[0m\u001b[0;34m,\u001b[0m\u001b[0mT_viz\u001b[0m\u001b[0;34m,\u001b[0m\u001b[0mx0_perf\u001b[0m\u001b[0;34m,\u001b[0m\u001b[0my0_perf\u001b[0m\u001b[0;34m,\u001b[0m\u001b[0mlx0\u001b[0m\u001b[0;34m,\u001b[0m\u001b[0mhx0\u001b[0m\u001b[0;34m,\u001b[0m\u001b[0mly0\u001b[0m\u001b[0;34m,\u001b[0m\u001b[0mhy0\u001b[0m\u001b[0;34m,\u001b[0m\u001b[0mV_map\u001b[0m\u001b[0;34m,\u001b[0m\u001b[0mnewmap_badmask\u001b[0m\u001b[0;34m,\u001b[0m\u001b[0mSmap_bounds\u001b[0m\u001b[0;34m,\u001b[0m\u001b[0mminviz\u001b[0m\u001b[0;34m,\u001b[0m\u001b[0mmaxviz\u001b[0m\u001b[0;34m)\u001b[0m\u001b[0;34m\u001b[0m\u001b[0m\n\u001b[0m",
      "\u001b[0;31mNameError\u001b[0m: name 'Vx_val' is not defined"
     ]
    }
   ],
   "source": [
    "MSD.jackson_plot(Vx_val,Vy_val,100,T_viz,x0_perf,y0_perf,lx0,hx0,ly0,hy0,V_map,newmap_badmask,Smap_bounds,minviz,maxviz)"
   ]
  },
  {
   "cell_type": "markdown",
   "metadata": {},
   "source": [
    "## Save the light curve data"
   ]
  },
  {
   "cell_type": "code",
   "execution_count": 10,
   "metadata": {
    "collapsed": false
   },
   "outputs": [
    {
     "name": "stdout",
     "output_type": "stream",
     "text": [
      "Exporting passed by\n"
     ]
    }
   ],
   "source": [
    "savefile_Name = 'Test_Scenario_001'\n",
    "\n",
    "if (Generate_key == True) and (ExportLC_key == True):\n",
    "    MSD.LCdumpGiv(folder_Name,savefile_Name,Star_mass,Star_radius,Star_Teff,\n",
    "                  Planet_semimajor,Planet_radius,Planet_impact,Planet_Ag,Planet_AB,Planet_varepsilon,\n",
    "                  NperHr,Obs_orbits,Frac_transinone,wavelength_Obs,bandwidth_Obs,significance_decl,ratio_DelD_decl,\n",
    "                  Frac_repoints,Noisy_cents_key,Frac_sigcent,Rhomax_cent,level_Vnoise,Nzy_per_pix,\n",
    "                  Brown_key,ratio_Brown_DelD)\n",
    "    MSD.LCdumpCen(folder_Name,savefile_Name,x0_perf,y0_perf,tm_inds,select_point,\n",
    "                  Jitter_vals,Wobble_vals,ShortDrift_vals,LongDrift_vals,\n",
    "                  x0_vals,y0_vals,Cov_true,xgrid_Fixed,ygrid_Fixed,Master_pixNoi)\n",
    "    MSD.LCdumpDat(folder_Name,savefile_Name,Ast_true,Trans_true,Ecl_true,mu_true,SigF_true,\n",
    "                  T,A_m,D_m,F_perf,F_dat,V_map,Vx_val,Vy_val,Bro_noi)\n",
    "else:\n",
    "    print('Exporting passed by')"
   ]
  },
  {
   "cell_type": "markdown",
   "metadata": {},
   "source": [
    "# Setup the Models to Fit With"
   ]
  },
  {
   "cell_type": "markdown",
   "metadata": {},
   "source": [
    "## Gaussian Process (G-type)"
   ]
  },
  {
   "cell_type": "markdown",
   "metadata": {},
   "source": [
    "### Marginalising over the Model Posterior using MCMC"
   ]
  },
  {
   "cell_type": "markdown",
   "metadata": {},
   "source": [
    "#### Hyperparameters"
   ]
  },
  {
   "cell_type": "code",
   "execution_count": 11,
   "metadata": {
    "collapsed": false,
    "scrolled": true
   },
   "outputs": [
    {
     "ename": "NameError",
     "evalue": "name 'T' is not defined",
     "output_type": "error",
     "traceback": [
      "\u001b[0;31m---------------------------------------------------------------------------\u001b[0m",
      "\u001b[0;31mNameError\u001b[0m                                 Traceback (most recent call last)",
      "\u001b[0;32m<ipython-input-11-1e1867d2ecb3>\u001b[0m in \u001b[0;36m<module>\u001b[0;34m()\u001b[0m\n\u001b[1;32m      5\u001b[0m '''\n\u001b[1;32m      6\u001b[0m \u001b[0;34m\u001b[0m\u001b[0m\n\u001b[0;32m----> 7\u001b[0;31m \u001b[0mfeatures\u001b[0m \u001b[0;34m=\u001b[0m \u001b[0mnp\u001b[0m\u001b[0;34m.\u001b[0m\u001b[0marray\u001b[0m\u001b[0;34m(\u001b[0m\u001b[0;34m[\u001b[0m\u001b[0mT\u001b[0m\u001b[0;34m,\u001b[0m \u001b[0mx0_perf\u001b[0m\u001b[0;34m,\u001b[0m \u001b[0my0_perf\u001b[0m\u001b[0;34m,\u001b[0m \u001b[0mF_dat\u001b[0m\u001b[0;34m]\u001b[0m\u001b[0;34m)\u001b[0m\u001b[0;34m\u001b[0m\u001b[0m\n\u001b[0m\u001b[1;32m      8\u001b[0m \u001b[0mtrue_params\u001b[0m \u001b[0;34m=\u001b[0m \u001b[0mnp\u001b[0m\u001b[0;34m.\u001b[0m\u001b[0marray\u001b[0m\u001b[0;34m(\u001b[0m\u001b[0;34m[\u001b[0m\u001b[0mAst_true\u001b[0m\u001b[0;34m[\u001b[0m\u001b[0;36m0\u001b[0m\u001b[0;34m]\u001b[0m\u001b[0;34m,\u001b[0m\u001b[0mAst_true\u001b[0m\u001b[0;34m[\u001b[0m\u001b[0;36m1\u001b[0m\u001b[0;34m]\u001b[0m\u001b[0;34m,\u001b[0m\u001b[0mAst_true\u001b[0m\u001b[0;34m[\u001b[0m\u001b[0;36m2\u001b[0m\u001b[0;34m]\u001b[0m\u001b[0;34m,\u001b[0m\u001b[0mAst_true\u001b[0m\u001b[0;34m[\u001b[0m\u001b[0;36m3\u001b[0m\u001b[0;34m]\u001b[0m\u001b[0;34m,\u001b[0m\u001b[0mAst_true\u001b[0m\u001b[0;34m[\u001b[0m\u001b[0;36m4\u001b[0m\u001b[0;34m]\u001b[0m\u001b[0;34m,\u001b[0m\u001b[0mEcl_true\u001b[0m\u001b[0;34m[\u001b[0m\u001b[0;36m0\u001b[0m\u001b[0;34m]\u001b[0m\u001b[0;34m,\u001b[0m\u001b[0mEcl_true\u001b[0m\u001b[0;34m[\u001b[0m\u001b[0;36m1\u001b[0m\u001b[0;34m]\u001b[0m\u001b[0;34m,\u001b[0m\u001b[0mEcl_true\u001b[0m\u001b[0;34m[\u001b[0m\u001b[0;36m2\u001b[0m\u001b[0;34m]\u001b[0m\u001b[0;34m,\u001b[0m\u001b[0mTrans_true\u001b[0m\u001b[0;34m[\u001b[0m\u001b[0;36m0\u001b[0m\u001b[0;34m]\u001b[0m\u001b[0;34m,\u001b[0m\u001b[0mTrans_true\u001b[0m\u001b[0;34m[\u001b[0m\u001b[0;36m1\u001b[0m\u001b[0;34m]\u001b[0m\u001b[0;34m,\u001b[0m\u001b[0mTrans_true\u001b[0m\u001b[0;34m[\u001b[0m\u001b[0;36m2\u001b[0m\u001b[0;34m]\u001b[0m\u001b[0;34m,\u001b[0m\u001b[0mObs_orbits\u001b[0m\u001b[0;34m]\u001b[0m\u001b[0;34m)\u001b[0m\u001b[0;34m\u001b[0m\u001b[0m\n\u001b[1;32m      9\u001b[0m \u001b[0mn_cadence\u001b[0m \u001b[0;34m=\u001b[0m \u001b[0mNperHr\u001b[0m\u001b[0;34m\u001b[0m\u001b[0m\n",
      "\u001b[0;31mNameError\u001b[0m: name 'T' is not defined"
     ]
    }
   ],
   "source": [
    "'''\n",
    "Define the features and true astro parameter variables (here we optimize the \n",
    "hyperparameters using the true parameters. In principle, the hyperparameter optimization should\n",
    "also work moderately well using some initial guess.)\n",
    "'''\n",
    "\n",
    "features = np.array([T, x0_perf, y0_perf, F_dat])\n",
    "true_params = np.array([Ast_true[0],Ast_true[1],Ast_true[2],Ast_true[3],Ast_true[4],Ecl_true[0],Ecl_true[1],Ecl_true[2],Trans_true[0],Trans_true[1],Trans_true[2],Obs_orbits])\n",
    "n_cadence = NperHr\n",
    "\n",
    "# initial hyperparameters guess, theta_hypers[i]: 0: Axy, 1: At, 2: Lx, 3: Ly, 4: Lt, 5: Noise\n",
    "theta_hypers = np.array([1.0, 1.0, 0.5, 0.5, 5000,0.0005])\n",
    "\n",
    "# define the size of the initial MCMC ball, ~3 orders of magnitude smaller than the expected values\n",
    "\n",
    "mc_ball = np.array([0.002,0.002,0.001,0.001,10,0.000006])\n",
    "ndim = len(theta_hypers) # dimension of parameter-space\n",
    "nwalkers = 16 # arbitrarily used 2*ndim + 4, I'm using very conservative numbers for all MCMC parameters, since it's already running too slowly as is\n",
    "p0 = [np.array(theta_hypers) + mc_ball * np.random.randn(ndim)\n",
    "      for i in xrange(nwalkers)]\n",
    "\n",
    "sampler = emcee.EnsembleSampler(nwalkers, ndim, MSD.log_prob_hypers, args=(features,true_params,n_cadence))\n",
    "\n",
    "print(\"Running first burn-in...\")\n",
    "sampler.reset()\n",
    "\n",
    "# Re-sample the walkers near the best walker from the previous burn-in.\n",
    "p0 = [np.array(theta_hypers) + mc_ball * np.random.randn(ndim)\n",
    "      for i in xrange(nwalkers)]\n",
    "p0, _, _ = sampler.run_mcmc(p0, 10)\n",
    "\n",
    "print(\"Running second burn-in...\")\n",
    "samples = sampler.flatchain\n",
    "lnp = sampler.flatlnprobability\n",
    "sampler.reset()\n",
    "\n",
    "p0 = [samples[np.argmax(lnp)] + 1e-8 * np.random.randn(ndim) for i in xrange(nwalkers)]\n",
    "p0, _, _ = sampler.run_mcmc(p0, 100)\n",
    "\n",
    "\n",
    "print(\"Running production...\")\n",
    "samples = sampler.flatchain\n",
    "lnp = sampler.flatlnprobability\n",
    "sampler.run_mcmc(p0, 20)\n",
    "\n",
    "p0 = [samples[np.argmax(lnp)] + 1e-8 * np.random.randn(ndim) for i in xrange(nwalkers)]\n",
    "sampler.run_mcmc(p0, 400)\n",
    "\n",
    "samples = sampler.flatchain\n",
    "lnp = sampler.flatlnprobability"
   ]
  },
  {
   "cell_type": "markdown",
   "metadata": {},
   "source": [
    "#### Corner plots"
   ]
  },
  {
   "cell_type": "code",
   "execution_count": 12,
   "metadata": {
    "collapsed": false
   },
   "outputs": [
    {
     "ename": "NameError",
     "evalue": "name 'sampler' is not defined",
     "output_type": "error",
     "traceback": [
      "\u001b[0;31m---------------------------------------------------------------------------\u001b[0m",
      "\u001b[0;31mNameError\u001b[0m                                 Traceback (most recent call last)",
      "\u001b[0;32m<ipython-input-12-5154c6c39366>\u001b[0m in \u001b[0;36m<module>\u001b[0;34m()\u001b[0m\n\u001b[1;32m      1\u001b[0m \u001b[0mburnin\u001b[0m \u001b[0;34m=\u001b[0m \u001b[0;36m200\u001b[0m\u001b[0;34m\u001b[0m\u001b[0m\n\u001b[0;32m----> 2\u001b[0;31m \u001b[0msamples\u001b[0m \u001b[0;34m=\u001b[0m \u001b[0msampler\u001b[0m\u001b[0;34m.\u001b[0m\u001b[0mchain\u001b[0m\u001b[0;34m[\u001b[0m\u001b[0;34m:\u001b[0m\u001b[0;34m,\u001b[0m \u001b[0mburnin\u001b[0m\u001b[0;34m,\u001b[0m \u001b[0;34m:\u001b[0m\u001b[0;34m]\u001b[0m\u001b[0;34m.\u001b[0m\u001b[0mreshape\u001b[0m\u001b[0;34m(\u001b[0m\u001b[0;34m(\u001b[0m\u001b[0;34m-\u001b[0m\u001b[0;36m1\u001b[0m\u001b[0;34m,\u001b[0m\u001b[0mndim\u001b[0m\u001b[0;34m)\u001b[0m\u001b[0;34m)\u001b[0m\u001b[0;34m\u001b[0m\u001b[0m\n\u001b[0m\u001b[1;32m      3\u001b[0m \u001b[0mfig\u001b[0m \u001b[0;34m=\u001b[0m \u001b[0mcorner\u001b[0m\u001b[0;34m.\u001b[0m\u001b[0mcorner\u001b[0m\u001b[0;34m(\u001b[0m\u001b[0msamples\u001b[0m\u001b[0;34m,\u001b[0m \u001b[0mlabels\u001b[0m\u001b[0;34m=\u001b[0m\u001b[0;34m[\u001b[0m\u001b[0;34m\"$Axy$\"\u001b[0m\u001b[0;34m,\u001b[0m\u001b[0;34m\"At\"\u001b[0m\u001b[0;34m,\u001b[0m\u001b[0;34m\"Lx\"\u001b[0m\u001b[0;34m,\u001b[0m\u001b[0;34m\"Ly\"\u001b[0m\u001b[0;34m,\u001b[0m\u001b[0;34m\"Lt\"\u001b[0m\u001b[0;34m,\u001b[0m\u001b[0;34m\"Noise\"\u001b[0m\u001b[0;34m]\u001b[0m\u001b[0;34m)\u001b[0m\u001b[0;34m\u001b[0m\u001b[0m\n",
      "\u001b[0;31mNameError\u001b[0m: name 'sampler' is not defined"
     ]
    }
   ],
   "source": [
    "burnin = 200\n",
    "samples = sampler.chain[:, burnin, :].reshape((-1,ndim))\n",
    "fig = corner.corner(samples, labels=[\"$Axy$\",\"At\",\"Lx\",\"Ly\",\"Lt\",\"Noise\"])\n"
   ]
  },
  {
   "cell_type": "markdown",
   "metadata": {},
   "source": [
    "#### Parameters"
   ]
  },
  {
   "cell_type": "code",
   "execution_count": 13,
   "metadata": {
    "collapsed": false
   },
   "outputs": [
    {
     "ename": "NameError",
     "evalue": "name 'samples' is not defined",
     "output_type": "error",
     "traceback": [
      "\u001b[0;31m---------------------------------------------------------------------------\u001b[0m",
      "\u001b[0;31mNameError\u001b[0m                                 Traceback (most recent call last)",
      "\u001b[0;32m<ipython-input-13-1da1f8828a38>\u001b[0m in \u001b[0;36m<module>\u001b[0;34m()\u001b[0m\n\u001b[0;32m----> 1\u001b[0;31m \u001b[0moptimized_hypers\u001b[0m \u001b[0;34m=\u001b[0m \u001b[0msamples\u001b[0m\u001b[0;34m[\u001b[0m\u001b[0mnp\u001b[0m\u001b[0;34m.\u001b[0m\u001b[0margmax\u001b[0m\u001b[0;34m(\u001b[0m\u001b[0mlnp\u001b[0m\u001b[0;34m)\u001b[0m\u001b[0;34m]\u001b[0m\u001b[0;34m\u001b[0m\u001b[0m\n\u001b[0m\u001b[1;32m      2\u001b[0m \u001b[0;34m\u001b[0m\u001b[0m\n\u001b[1;32m      3\u001b[0m \u001b[0;31m# pre-computing all covariance matrices etc.\u001b[0m\u001b[0;34m\u001b[0m\u001b[0;34m\u001b[0m\u001b[0m\n\u001b[1;32m      4\u001b[0m \u001b[0mK\u001b[0m \u001b[0;34m=\u001b[0m \u001b[0mMSD\u001b[0m\u001b[0;34m.\u001b[0m\u001b[0mcompute_Cov_Matrix\u001b[0m\u001b[0;34m(\u001b[0m\u001b[0mfeatures\u001b[0m\u001b[0;34m,\u001b[0m\u001b[0moptimized_hypers\u001b[0m\u001b[0;34m)\u001b[0m\u001b[0;34m\u001b[0m\u001b[0m\n\u001b[1;32m      5\u001b[0m \u001b[0mKSig\u001b[0m \u001b[0;34m=\u001b[0m \u001b[0mK\u001b[0m \u001b[0;34m+\u001b[0m \u001b[0moptimized_hypers\u001b[0m\u001b[0;34m[\u001b[0m\u001b[0;34m-\u001b[0m\u001b[0;36m1\u001b[0m\u001b[0;34m]\u001b[0m \u001b[0;34m*\u001b[0m \u001b[0mnp\u001b[0m\u001b[0;34m.\u001b[0m\u001b[0midentity\u001b[0m\u001b[0;34m(\u001b[0m\u001b[0mlen\u001b[0m\u001b[0;34m(\u001b[0m\u001b[0mK\u001b[0m\u001b[0;34m)\u001b[0m\u001b[0;34m)\u001b[0m\u001b[0;34m\u001b[0m\u001b[0m\n",
      "\u001b[0;31mNameError\u001b[0m: name 'samples' is not defined"
     ]
    }
   ],
   "source": [
    "optimized_hypers = samples[np.argmax(lnp)]\n",
    "\n",
    "# pre-computing all covariance matrices etc.\n",
    "K = MSD.compute_Cov_Matrix(features,optimized_hypers)\n",
    "KSig = K + optimized_hypers[-1] * np.identity(len(K))\n",
    "factor, flag = cho_factor(KSig)\n",
    "\n",
    "# initial parameter guesses\n",
    "theta_params = np.array([5.0e-03, 9.0e+04, 3.14, 5.0e-02, 2.65e+05,5.0e+03,5.5e+03,0.5,1.5e+03,4.0,0.5])\n",
    "\n",
    "ndim = len(theta_params)\n",
    "nwalkers = 30\n",
    "mc_ball = np.array([1e-06,1.0,1e-03,1.0e-05,1.0e+02,1.0,1.0,0.0001,1.0,1.0e-03,1.0e-03])\n",
    "\n",
    "p0 = [np.array(theta_params) + mc_ball * np.random.randn(ndim)\n",
    "      for i in xrange(nwalkers)]\n",
    "\n",
    "sampler = emcee.EnsembleSampler(nwalkers, ndim, MSD.log_prob_params, args=(features,factor,flag,n_cadence))\n",
    "\n",
    "print(\"Running first burn-in...\")\n",
    "samples = sampler.flatchain\n",
    "lnp = sampler.flatlnprobability\n",
    "sampler.reset()\n",
    "\n",
    "# Re-sample the walkers near the best walker from the previous burn-in.\n",
    "p0 = [samples[np.argmax(lnp)] + 1e-8 * np.random.randn(ndim) for i in xrange(nwalkers)]\n",
    "p0, _, _ = sampler.run_mcmc(p0, 100) #250\n",
    "\n",
    "print(\"Running second burn-in...\")\n",
    "samples = sampler.flatchain\n",
    "lnp = sampler.flatlnprobability\n",
    "sampler.reset()\n",
    "\n",
    "p0 = [samples[np.argmax(lnp)] + 1e-8 * np.random.randn(ndim) for i in xrange(nwalkers)]\n",
    "\n",
    "p0, _, _ = sampler.run_mcmc(p0, 100) #250\n",
    "sampler.reset()\n",
    "\n",
    "print(\"Running production...\")\n",
    "samples = sampler.flatchain\n",
    "lnp = sampler.flatlnprobability\n",
    "sampler.reset()\n",
    "\n",
    "p0 = [samples[np.argmax(lnp)] + 1e-8 * np.random.randn(ndim) for i in xrange(nwalkers)]\n",
    "\n",
    "sampler.run_mcmc(p0, 400) #1000"
   ]
  },
  {
   "cell_type": "markdown",
   "metadata": {},
   "source": [
    "#### Corner plots"
   ]
  },
  {
   "cell_type": "code",
   "execution_count": null,
   "metadata": {
    "collapsed": true
   },
   "outputs": [],
   "source": [
    "burnin = 200\n",
    "samples = sampler.chain[:, burnin, :].reshape((-1,ndim))\n",
    "fig = corner.corner(samples, labels=[\"$Amp$\",\"$Period$\",\"$Phase$\",\"$Dlt_flux$\",\"$TCent$\",\"$EHwid$\",\"$Ingress$\",\"$EDepth$\",\"$THwid$\",\"$Pow$\",\"$TDepth$\"], truths=true_params)"
   ]
  },
  {
   "cell_type": "markdown",
   "metadata": {
    "collapsed": false
   },
   "source": [
    "## Optimize Parameters Using Nelder Mead"
   ]
  },
  {
   "cell_type": "code",
   "execution_count": null,
   "metadata": {
    "collapsed": false
   },
   "outputs": [],
   "source": [
    "# optimized_hypers = optimize.minimize(MSD.log_likelihood_hypers,theta0_hyp,args=(features,true_params,n_cadence),method='Nelder-Mead')\n",
    "# #optimized_hypers = np.array([9.30393548e-1,-6.63078966e-9,1.45246665e-2,5.28909727e-2,9.39520039e+2,1.15646459e-14])"
   ]
  },
  {
   "cell_type": "code",
   "execution_count": null,
   "metadata": {
    "collapsed": true
   },
   "outputs": [],
   "source": [
    "# theta0_par = np.array([9.0e-3,4e+5,5e-1,1e-2,2.64618521e+05,3e+3,5e+3,2e-2,7e+3,4e+0,3e-1,1.5])"
   ]
  },
  {
   "cell_type": "code",
   "execution_count": null,
   "metadata": {
    "collapsed": false
   },
   "outputs": [],
   "source": [
    "# K = MSD.compute_Cov_Matrix(features,optimized_hypers)\n",
    "# KSig = K + optimized_hypers[-1] * np.identity(len(K))\n",
    "# # inv_KSig = MSD.linalg.cholesky(KSig)\n",
    "# # logdet_KSig = MSD.linalg.slogdet(KSig)[1]\n",
    "# factor, flag = cho_factor(KSig)"
   ]
  },
  {
   "cell_type": "code",
   "execution_count": null,
   "metadata": {
    "collapsed": false
   },
   "outputs": [],
   "source": [
    "# # print MSD.log_likelihood_params(astro_guess,features,inv_KSig,logdet_KSig,NperHr)\n",
    "\n",
    "# optimized_astros = optimize.minimize(MSD.log_likelihood_params,theta0_par,args=(features,inv_KSig,logdet_KSig,NperHr),method='Nelder-Mead')\n",
    "# print optimized_astros"
   ]
  },
  {
   "cell_type": "code",
   "execution_count": null,
   "metadata": {
    "collapsed": false
   },
   "outputs": [],
   "source": [
    "# print optimized_astros.x"
   ]
  },
  {
   "cell_type": "code",
   "execution_count": null,
   "metadata": {
    "collapsed": false
   },
   "outputs": [],
   "source": [
    "# theta_par = optimized_astros.x\n",
    "# astro, ecl, trans = theta_par[0:5], theta_par[5:8], theta_par[8:11]\n",
    "# n_per_orb = int(np.around((theta_par[1]/3600.0)*NperHr))  # period in hrs * data per hr\n",
    "# t_dummy = np.linspace(-0.25*theta_par[1],0.75*theta_par[1],n_per_orb)\n",
    "# t_full = T\n",
    "# astro_mdl = MSD.perf_astro_model(t_full,t_dummy,astro,trans,ecl)\n",
    "# plt.plot(T,astro_mdl,'b-')\n",
    "# plt.plot(T,F_dat,'kx')\n",
    "# plt.show()\n"
   ]
  },
  {
   "cell_type": "code",
   "execution_count": null,
   "metadata": {
    "collapsed": true
   },
   "outputs": [],
   "source": [
    "# astro, ecl, trans = theta0_par[0:5], theta0_par[5:8], theta0_par[8:11]\n",
    "# n_per_orb = int(np.around((theta0_par[1]/3600.0)*NperHr))  # period in hrs * data per hr\n",
    "# t_dummy = np.linspace(-0.25*theta0_par[1],0.75*theta0_par[1],n_per_orb)\n",
    "# t_full = T\n",
    "# astro_mdl = MSD.perf_astro_model(t_full,t_dummy,astro,trans,ecl)\n",
    "# plt.plot(T,astro_mdl,'b-')\n",
    "# plt.plot(T,F_dat,'kx')\n",
    "# plt.show()"
   ]
  }
 ],
 "metadata": {
  "anaconda-cloud": {},
  "kernelspec": {
   "display_name": "Python [conda root]",
   "language": "python",
   "name": "conda-root-py"
  },
  "language_info": {
   "codemirror_mode": {
    "name": "ipython",
    "version": 2
   },
   "file_extension": ".py",
   "mimetype": "text/x-python",
   "name": "python",
   "nbconvert_exporter": "python",
   "pygments_lexer": "ipython2",
   "version": "2.7.12"
  }
 },
 "nbformat": 4,
 "nbformat_minor": 1
}
